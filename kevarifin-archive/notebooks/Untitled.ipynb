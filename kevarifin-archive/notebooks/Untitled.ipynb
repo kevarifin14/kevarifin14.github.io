{
 "cells": [
  {
   "cell_type": "code",
   "execution_count": 32,
   "metadata": {
    "collapsed": true
   },
   "outputs": [],
   "source": [
    "import trackanimation\n",
    "from trackanimation.animation import AnimationTrack"
   ]
  },
  {
   "cell_type": "code",
   "execution_count": 47,
   "metadata": {
    "scrolled": true
   },
   "outputs": [
    {
     "name": "stderr",
     "output_type": "stream",
     "text": [
      "Reading files: 100%|██████████| 9/9 [00:31<00:00,  3.75s/it]\n"
     ]
    }
   ],
   "source": [
    "all_data = trackanimation.read_track('data/')"
   ]
  },
  {
   "cell_type": "code",
   "execution_count": 51,
   "metadata": {},
   "outputs": [
    {
     "name": "stdout",
     "output_type": "stream",
     "text": [
      "Lowered zoom level to keep map size reasonable. (z = 5)\n"
     ]
    },
    {
     "name": "stderr",
     "output_type": "stream",
     "text": [
      "Groups: 100%|██████████| 9/9 [00:00<00:00, 38.99it/s]\n"
     ]
    }
   ],
   "source": [
    "track = AnimationTrack(df_points=all_data, dpi=2000, bg_map=True, map_transparency=1)\n",
    "track.make_image(linewidth=0.2, output_file='all')"
   ]
  },
  {
   "cell_type": "code",
   "execution_count": 48,
   "metadata": {},
   "outputs": [
    {
     "name": "stderr",
     "output_type": "stream",
     "text": [
      "/Users/kevin/anaconda3/envs/py36/lib/python3.6/site-packages/trackanimation/tracking.py:233: UserWarning: Since July 2018 Google requires each request to have an API key. Pass a valid `api_key` to GoogleV3 geocoder to hide this warning. See https://developers.google.com/maps/documentation/geocoding/usage-and-billing\n",
      "  geolocator = geopy.GoogleV3()\n"
     ]
    }
   ],
   "source": [
    "chicago = all_data.get_tracks_by_place('Chicago')\n",
    "ny = all_data.get_tracks_by_place('New York')"
   ]
  },
  {
   "cell_type": "code",
   "execution_count": 49,
   "metadata": {},
   "outputs": [
    {
     "name": "stdout",
     "output_type": "stream",
     "text": [
      "Lowered zoom level to keep map size reasonable. (z = 11)\n",
      "Lowered zoom level to keep map size reasonable. (z = 11)\n"
     ]
    }
   ],
   "source": [
    "chicago_track = AnimationTrack(df_points=chicago, dpi=2000, bg_map=True, map_transparency=1)\n",
    "ny_track = AnimationTrack(df_points=ny, dpi=2000, bg_map=True, map_transparency=1)"
   ]
  },
  {
   "cell_type": "code",
   "execution_count": 50,
   "metadata": {},
   "outputs": [
    {
     "name": "stderr",
     "output_type": "stream",
     "text": [
      "Groups: 100%|██████████| 6/6 [00:00<00:00, 74.09it/s]\n",
      "Groups: 100%|██████████| 6/6 [00:00<00:00, 69.91it/s]\n"
     ]
    }
   ],
   "source": [
    "chicago_track.make_image(linewidth=0.2, output_file='chicago')\n",
    "ny_track.make_image(linewidth=0.2, output_file='ny')"
   ]
  },
  {
   "cell_type": "code",
   "execution_count": null,
   "metadata": {
    "collapsed": true
   },
   "outputs": [],
   "source": []
  }
 ],
 "metadata": {
  "kernelspec": {
   "display_name": "Python 3",
   "language": "python",
   "name": "python3"
  },
  "language_info": {
   "codemirror_mode": {
    "name": "ipython",
    "version": 3
   },
   "file_extension": ".py",
   "mimetype": "text/x-python",
   "name": "python",
   "nbconvert_exporter": "python",
   "pygments_lexer": "ipython3",
   "version": "3.6.2"
  }
 },
 "nbformat": 4,
 "nbformat_minor": 1
}
